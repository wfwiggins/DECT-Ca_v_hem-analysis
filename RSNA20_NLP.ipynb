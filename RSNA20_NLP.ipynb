{
  "nbformat": 4,
  "nbformat_minor": 0,
  "metadata": {
    "colab": {
      "name": "RSNA20_NLP.ipynb",
      "provenance": [],
      "collapsed_sections": [],
      "toc_visible": true,
      "authorship_tag": "ABX9TyOH0517C1e0CTYEfFJxXWQR",
      "include_colab_link": true
    },
    "kernelspec": {
      "name": "python3",
      "display_name": "Python 3"
    }
  },
  "cells": [
    {
      "cell_type": "markdown",
      "metadata": {
        "id": "view-in-github",
        "colab_type": "text"
      },
      "source": [
        "<a href=\"https://colab.research.google.com/github/wfwiggins/DECT-Ca_v_hem-analysis/blob/master/RSNA20_NLP.ipynb\" target=\"_parent\"><img src=\"https://colab.research.google.com/assets/colab-badge.svg\" alt=\"Open In Colab\"/></a>"
      ]
    },
    {
      "cell_type": "markdown",
      "metadata": {
        "id": "kIjz0KY4kSQV"
      },
      "source": [
        "# **RSNA 2020: Hands-on AI for Non-Coders**\n",
        "\n",
        "## **Basics of Information Extraction from Radiology Reports**\n",
        "\n",
        "In this demonstration, we will utilize techniques of _natural language processing_ (NLP) to train a classifier, which will analyze the text of radiology reports for chest radiographs to predict whether a report is **normal** or **abnormal**."
      ]
    },
    {
      "cell_type": "markdown",
      "metadata": {
        "id": "CIrzuLMzr3Ey"
      },
      "source": [
        "# System Setup & Downloading the Data\n",
        "\n",
        "- The first step will install the necessary libraries, then the system will restart. This _WILL_ generate an error message, which can safely be ignored 😉.\n",
        "- In the second step, we will download the [NLM Open-i \"Indiana University Chest X-ray Reports\" dataset](https://openi.nlm.nih.gov/faq#collection)."
      ]
    },
    {
      "cell_type": "code",
      "metadata": {
        "id": "MIA9a7rckKil",
        "cellView": "both"
      },
      "source": [
        "#@title **Installing libraries & restarting...**\n",
        "\n",
        "import os\n",
        "\n",
        "!pip install fastai --upgrade >/dev/null\n",
        "!pip install xmltodict >/dev/null\n",
        "\n",
        "os.kill(os.getpid(), 9)"
      ],
      "execution_count": null,
      "outputs": []
    },
    {
      "cell_type": "code",
      "metadata": {
        "id": "klDik57Vm9Cg",
        "cellView": "both",
        "outputId": "166e4604-bfb1-4565-aa67-6e9d31dbcf13",
        "colab": {
          "base_uri": "https://localhost:8080/",
          "height": 34
        }
      },
      "source": [
        "#@title **Downloading the data...**\n",
        "\n",
        "!curl -s https://openi.nlm.nih.gov/imgs/collections/NLMCXR_reports.tgz | tar xvz >/dev/null\n",
        "\n",
        "print('Success!')"
      ],
      "execution_count": 1,
      "outputs": [
        {
          "output_type": "stream",
          "text": [
            "Success!\n"
          ],
          "name": "stdout"
        }
      ]
    },
    {
      "cell_type": "markdown",
      "metadata": {
        "id": "SMmKrqN5tM83"
      },
      "source": [
        "# Reformatting the Data\n",
        "\n",
        "Each of the reports is stored in _extensible markup language_ (XML) format. In order to work with the report text data more easily, we will extract the data and put it into a `pandas.DataFrame`, which is a tabular data structure.\n",
        "\n",
        "The XML metadata contains [MeSH terms](https://www.ncbi.nlm.nih.gov/mesh/) for each report. We will use these to create the _label_ for each report in our dataset. These labels will serve as the targets for training our classifier to predict whether the report is **normal** or **abnormal**."
      ]
    },
    {
      "cell_type": "code",
      "metadata": {
        "id": "Gemrv76EoQVX",
        "cellView": "both",
        "outputId": "0161ec3a-c365-4344-9678-31a4fa850932",
        "colab": {
          "base_uri": "https://localhost:8080/",
          "height": 812
        }
      },
      "source": [
        "#@title **Extracting the data...**\n",
        "\n",
        "import glob\n",
        "import xmltodict\n",
        "from fastai.basics import *\n",
        "\n",
        "def xml_parse(f):\n",
        "    with open(f) as xml:\n",
        "        report_dict = xmltodict.parse(xml.read())\n",
        "    xml.close()\n",
        "    return report_dict\n",
        "\n",
        "def get_label(report):\n",
        "    label = L(report['eCitation']['MeSH']['major'])\n",
        "    return 'normal' if label[0].lower() == 'normal' else 'abnormal'\n",
        "\n",
        "def get_text(report):\n",
        "    text_dict = {}\n",
        "    text = report['eCitation']['MedlineCitation']['Article']['Abstract']['AbstractText']\n",
        "    findings = text[2]\n",
        "    text_dict['findings'] = findings['#text'] if '#text' in findings else ''\n",
        "    impression = text[3]\n",
        "    text_dict['impression'] = impression['#text'] if '#text' in impression else ''\n",
        "    return text_dict\n",
        "\n",
        "def process_report(report):\n",
        "    label = get_label(report)\n",
        "    report_dict = get_text(report)\n",
        "    report_dict['label'] = label\n",
        "    return report_dict\n",
        "\n",
        "fps = L(glob.glob('/content/ecgen-radiology/*'))\n",
        "reports = fps.map(xml_parse)\n",
        "reports_df = pd.DataFrame(reports.map(process_report))\n",
        "reports_df"
      ],
      "execution_count": null,
      "outputs": [
        {
          "output_type": "execute_result",
          "data": {
            "text/html": [
              "<div>\n",
              "<style scoped>\n",
              "    .dataframe tbody tr th:only-of-type {\n",
              "        vertical-align: middle;\n",
              "    }\n",
              "\n",
              "    .dataframe tbody tr th {\n",
              "        vertical-align: top;\n",
              "    }\n",
              "\n",
              "    .dataframe thead th {\n",
              "        text-align: right;\n",
              "    }\n",
              "</style>\n",
              "<table border=\"1\" class=\"dataframe\">\n",
              "  <thead>\n",
              "    <tr style=\"text-align: right;\">\n",
              "      <th></th>\n",
              "      <th>findings</th>\n",
              "      <th>impression</th>\n",
              "      <th>label</th>\n",
              "    </tr>\n",
              "  </thead>\n",
              "  <tbody>\n",
              "    <tr>\n",
              "      <th>0</th>\n",
              "      <td>Normal heart size and mediastinal contours. Patchy right lower lobe airspace opacities. No pleural effusion or pneumothorax. Visualized osseous structures are unremarkable in appearance.</td>\n",
              "      <td>Mild, nonconsolidating right lower lobe airspace disease. This may represent an early pneumonia.</td>\n",
              "      <td>abnormal</td>\n",
              "    </tr>\n",
              "    <tr>\n",
              "      <th>1</th>\n",
              "      <td>The heart is normal in size. The mediastinum is stable. Innumerable XXXX bilateral nodules are identified, most of which appear calcified on XXXX examination. There is no acute infiltrate or effusion. XXXX lingular scarring and/or atelectasis.</td>\n",
              "      <td>No acute disease.</td>\n",
              "      <td>abnormal</td>\n",
              "    </tr>\n",
              "    <tr>\n",
              "      <th>2</th>\n",
              "      <td>The lungs are clear. There is no pleural effusion or pneumothorax. There has been a XXXX XXXX sternotomy. The heart is not enlarged. Some atherosclerotic changes of the aorta are seen. The skeletal structures are normal.</td>\n",
              "      <td>No acute pulmonary disease.</td>\n",
              "      <td>abnormal</td>\n",
              "    </tr>\n",
              "    <tr>\n",
              "      <th>3</th>\n",
              "      <td>Heart size and mediastinal contours are stable. Atherosclerotic calcifications of the aorta. Moderate severe hyperexpansion of the lungs and decreased peripheral vascular markings, consistent with emphysema. Stable biapical pleural-parenchymal scarring. Scattered granulomas. No abnormal airspace consolidation. No pneumothorax or pleural effusion.</td>\n",
              "      <td>1. Stable emphysematous changes. 2. Stable biapical pleural-parenchymal scarring.</td>\n",
              "      <td>abnormal</td>\n",
              "    </tr>\n",
              "    <tr>\n",
              "      <th>4</th>\n",
              "      <td></td>\n",
              "      <td></td>\n",
              "      <td>normal</td>\n",
              "    </tr>\n",
              "    <tr>\n",
              "      <th>...</th>\n",
              "      <td>...</td>\n",
              "      <td>...</td>\n",
              "      <td>...</td>\n",
              "    </tr>\n",
              "    <tr>\n",
              "      <th>3950</th>\n",
              "      <td>Cardiac And Mediastinal Contours Are Unremarkable. Pulmonary vascularity is within normal limits. No focal air space opacities, pleural effusion, or pneumothorax. XXXX are grossly unremarkable. There are some minimal degenerative changes of the thoracic spine. Evidence of chronic granulomatous disease.</td>\n",
              "      <td>1. Clear lungs.</td>\n",
              "      <td>abnormal</td>\n",
              "    </tr>\n",
              "    <tr>\n",
              "      <th>3951</th>\n",
              "      <td>Frontal and lateral views of the chest show normal size and configuration of the cardiac silhouette. There is aortic XXXX vascular calcification. And there is a hyper left lung calcified granuloma. Normal mediastinal contour, pulmonary XXXX and vasculature, central airways and lung volumes. No pleural effusion. There are vascular and skeletal senescent changes.</td>\n",
              "      <td>No acute or active cardiac, pulmonary or pleural disease.</td>\n",
              "      <td>abnormal</td>\n",
              "    </tr>\n",
              "    <tr>\n",
              "      <th>3952</th>\n",
              "      <td>Cardiac and mediastinal contours are within normal limits. The lungs are clear. Multilevel cervical XXXX arthritis.</td>\n",
              "      <td>No acute findings.</td>\n",
              "      <td>abnormal</td>\n",
              "    </tr>\n",
              "    <tr>\n",
              "      <th>3953</th>\n",
              "      <td>The heart size is persistently enlarged. Lung volumes are low. Lungs are clear. There is no pleural line to suggest pneumothorax or costophrenic XXXX blunting to suggest large pleural effusion. Bony structures are within normal limits.</td>\n",
              "      <td>No acute cardiopulmonary findings.</td>\n",
              "      <td>abnormal</td>\n",
              "    </tr>\n",
              "    <tr>\n",
              "      <th>3954</th>\n",
              "      <td>The cardiomediastinal silhouette is within normal limits for size and contour. There is a right middle lobe nodule which is denser than adjacent XXXX is most XXXX calcified. The lungs are normally inflated without evidence of focal airspace disease, pleural effusion, or pneumothorax. Degenerative endplate changes of the spine.</td>\n",
              "      <td>1. No acute radiographic cardiopulmonary process.</td>\n",
              "      <td>abnormal</td>\n",
              "    </tr>\n",
              "  </tbody>\n",
              "</table>\n",
              "<p>3955 rows × 3 columns</p>\n",
              "</div>"
            ],
            "text/plain": [
              "                                                                                                                                                                                                                                                                                                                                                                         findings  ...     label\n",
              "0                                                                                                                                                                                      Normal heart size and mediastinal contours. Patchy right lower lobe airspace opacities. No pleural effusion or pneumothorax. Visualized osseous structures are unremarkable in appearance.  ...  abnormal\n",
              "1                                                                                                                             The heart is normal in size. The mediastinum is stable. Innumerable XXXX bilateral nodules are identified, most of which appear calcified on XXXX examination. There is no acute infiltrate or effusion. XXXX lingular scarring and/or atelectasis.  ...  abnormal\n",
              "2                                                                                                                                                    The lungs are clear. There is no pleural effusion or pneumothorax. There has been a XXXX XXXX sternotomy. The heart is not enlarged. Some atherosclerotic changes of the aorta are seen. The skeletal structures are normal.  ...  abnormal\n",
              "3                    Heart size and mediastinal contours are stable. Atherosclerotic calcifications of the aorta. Moderate severe hyperexpansion of the lungs and decreased peripheral vascular markings, consistent with emphysema. Stable biapical pleural-parenchymal scarring. Scattered granulomas. No abnormal airspace consolidation. No pneumothorax or pleural effusion.  ...  abnormal\n",
              "4                                                                                                                                                                                                                                                                                                                                                                                  ...    normal\n",
              "...                                                                                                                                                                                                                                                                                                                                                                           ...  ...       ...\n",
              "3950                                                              Cardiac And Mediastinal Contours Are Unremarkable. Pulmonary vascularity is within normal limits. No focal air space opacities, pleural effusion, or pneumothorax. XXXX are grossly unremarkable. There are some minimal degenerative changes of the thoracic spine. Evidence of chronic granulomatous disease.  ...  abnormal\n",
              "3951  Frontal and lateral views of the chest show normal size and configuration of the cardiac silhouette. There is aortic XXXX vascular calcification. And there is a hyper left lung calcified granuloma. Normal mediastinal contour, pulmonary XXXX and vasculature, central airways and lung volumes. No pleural effusion. There are vascular and skeletal senescent changes.  ...  abnormal\n",
              "3952                                                                                                                                                                                                                                                          Cardiac and mediastinal contours are within normal limits. The lungs are clear. Multilevel cervical XXXX arthritis.  ...  abnormal\n",
              "3953                                                                                                                                  The heart size is persistently enlarged. Lung volumes are low. Lungs are clear. There is no pleural line to suggest pneumothorax or costophrenic XXXX blunting to suggest large pleural effusion. Bony structures are within normal limits.  ...  abnormal\n",
              "3954                                     The cardiomediastinal silhouette is within normal limits for size and contour. There is a right middle lobe nodule which is denser than adjacent XXXX is most XXXX calcified. The lungs are normally inflated without evidence of focal airspace disease, pleural effusion, or pneumothorax. Degenerative endplate changes of the spine.  ...  abnormal\n",
              "\n",
              "[3955 rows x 3 columns]"
            ]
          },
          "metadata": {
            "tags": []
          },
          "execution_count": 2
        }
      ]
    },
    {
      "cell_type": "markdown",
      "metadata": {
        "id": "4sANCvWZy2_5"
      },
      "source": [
        "# Exploring the data\n",
        "\n",
        "As you'll see in the table above, there are some reports where the \"Impression\" states something along the lines of \"No acute cardiopulmonary abnormality\" but the label is \"abnormal\". This is usually due to a chronic incidental finding or artifact that is mentioned in the \"Findings\", but isn't included in the \"Impression\".\n",
        "\n",
        "> We'll revisit this point later when we're deciding which text from the report we want to use to train our classifier.\n",
        "\n",
        "For now, let's look through a little more of the data and see how many normals and abnormals we have to work with."
      ]
    },
    {
      "cell_type": "code",
      "metadata": {
        "id": "HJQupI3dyCTB",
        "outputId": "d8ffdac5-68cc-4ae6-a3a4-1f86ca9f9319",
        "colab": {
          "base_uri": "https://localhost:8080/",
          "height": 357
        }
      },
      "source": [
        "#@title **Run this cell several times to view random samples of the data**\n",
        "\n",
        "reports_df.sample(5)"
      ],
      "execution_count": null,
      "outputs": [
        {
          "output_type": "execute_result",
          "data": {
            "text/html": [
              "<div>\n",
              "<style scoped>\n",
              "    .dataframe tbody tr th:only-of-type {\n",
              "        vertical-align: middle;\n",
              "    }\n",
              "\n",
              "    .dataframe tbody tr th {\n",
              "        vertical-align: top;\n",
              "    }\n",
              "\n",
              "    .dataframe thead th {\n",
              "        text-align: right;\n",
              "    }\n",
              "</style>\n",
              "<table border=\"1\" class=\"dataframe\">\n",
              "  <thead>\n",
              "    <tr style=\"text-align: right;\">\n",
              "      <th></th>\n",
              "      <th>findings</th>\n",
              "      <th>impression</th>\n",
              "      <th>label</th>\n",
              "    </tr>\n",
              "  </thead>\n",
              "  <tbody>\n",
              "    <tr>\n",
              "      <th>1563</th>\n",
              "      <td>Lungs are clear bilaterally. Cardiac and mediastinal silhouettes are normal. Pulmonary vasculature is normal. No pneumothorax or pleural effusion. No acute bony abnormality.</td>\n",
              "      <td>No acute cardiopulmonary abnormality.</td>\n",
              "      <td>normal</td>\n",
              "    </tr>\n",
              "    <tr>\n",
              "      <th>3205</th>\n",
              "      <td></td>\n",
              "      <td>Heart size is normal in the lungs are clear.</td>\n",
              "      <td>normal</td>\n",
              "    </tr>\n",
              "    <tr>\n",
              "      <th>854</th>\n",
              "      <td>Normal heart size. Tortuous calcified aorta. Scattered granulomas. No lobar pneumonia. Probable XXXX post your recess effusions. Kyphotic degenerated osteopenic thoracic spine.</td>\n",
              "      <td>Probable XXXX posterior recess effusions with mild basilar atelectasis. No lobar pneumonia.</td>\n",
              "      <td>abnormal</td>\n",
              "    </tr>\n",
              "    <tr>\n",
              "      <th>1731</th>\n",
              "      <td>The lungs are clear. There is no pleural effusion or pneumothorax. There is no evidence for mass lung apices. The heart is normal. There are atherosclerotic changes of the aorta. The skeletal structures are unremarkable.</td>\n",
              "      <td>1. No acute pulmonary disease. No evidence for apical mass.</td>\n",
              "      <td>abnormal</td>\n",
              "    </tr>\n",
              "    <tr>\n",
              "      <th>2287</th>\n",
              "      <td>Apparent cardiomegaly XXXX at XXXX partially accentuated by low lung volumes. No focal consolidation, pneumothorax or large pleural effusion. Right base calcified granuloma. Stable right infrahilar nodular density (lateral view). Negative for acute bone abnormality.</td>\n",
              "      <td>Borderline cardiomegaly without heart failure.</td>\n",
              "      <td>abnormal</td>\n",
              "    </tr>\n",
              "  </tbody>\n",
              "</table>\n",
              "</div>"
            ],
            "text/plain": [
              "                                                                                                                                                                                                                                                                        findings  ...     label\n",
              "1563                                                                                               Lungs are clear bilaterally. Cardiac and mediastinal silhouettes are normal. Pulmonary vasculature is normal. No pneumothorax or pleural effusion. No acute bony abnormality.  ...    normal\n",
              "3205                                                                                                                                                                                                                                                                              ...    normal\n",
              "854                                                                                             Normal heart size. Tortuous calcified aorta. Scattered granulomas. No lobar pneumonia. Probable XXXX post your recess effusions. Kyphotic degenerated osteopenic thoracic spine.  ...  abnormal\n",
              "1731                                                The lungs are clear. There is no pleural effusion or pneumothorax. There is no evidence for mass lung apices. The heart is normal. There are atherosclerotic changes of the aorta. The skeletal structures are unremarkable.  ...  abnormal\n",
              "2287  Apparent cardiomegaly XXXX at XXXX partially accentuated by low lung volumes. No focal consolidation, pneumothorax or large pleural effusion. Right base calcified granuloma. Stable right infrahilar nodular density (lateral view). Negative for acute bone abnormality.  ...  abnormal\n",
              "\n",
              "[5 rows x 3 columns]"
            ]
          },
          "metadata": {
            "tags": []
          },
          "execution_count": 3
        }
      ]
    },
    {
      "cell_type": "markdown",
      "metadata": {
        "id": "qq2-xd-YyrpC"
      },
      "source": [
        "Here are some of the things you may have noticed about the data, as you reviewed it:\n",
        "- Some reports only have an Impression (i.e. no separate Findings section)\n",
        "- Many reports contain blocks of \"XXXX\" text. This is due to the fact that these reports were anonymized prior to releasing them as an open data set. These blocks likely represent _named entities_ or dates.\n",
        "- As expected, there is wide variation in the length of these chest radiograph reports.\n",
        "\n",
        "<hr>\n",
        "\n",
        "Next, let's count how many of each label we have.\n"
      ]
    },
    {
      "cell_type": "code",
      "metadata": {
        "id": "nqY-EC3opnBW",
        "outputId": "c01923ee-20e0-4753-f922-86af287e31da",
        "colab": {
          "base_uri": "https://localhost:8080/",
          "height": 356
        }
      },
      "source": [
        "#@title **Label counts: # of Normals & Abnormals**\n",
        "label_counts = reports_df.label.value_counts()\n",
        "print('Abnormal:', label_counts['abnormal'])\n",
        "print('Normal:', label_counts['normal'])\n",
        "print()\n",
        "label_counts.plot.bar();"
      ],
      "execution_count": null,
      "outputs": [
        {
          "output_type": "stream",
          "text": [
            "Abnormal: 2564\n",
            "Normal: 1391\n",
            "\n"
          ],
          "name": "stdout"
        },
        {
          "output_type": "display_data",
          "data": {
            "image/png": "[encoded data removed]",
            "text/plain": [
              "<Figure size 432x288 with 1 Axes>"
            ]
          },
          "metadata": {
            "tags": [],
            "needs_background": "light"
          }
        }
      ]
    },
    {
      "cell_type": "markdown",
      "metadata": {
        "id": "fGQenIsg0uqe"
      },
      "source": [
        "As we see in the bar graph above, there are almost twice as many abnormal reports as there are normal reports. This will be important to remember as we partition our data into training, validation, and test sets.\n",
        "\n",
        "In fact, we'll go ahead and split off (\"hold out\") the test set right now to ensure our model is not exposed to it until the very end. \n",
        "\n",
        "We'll set it up such that the our test set is 15% of our full data set and keep the relative percentage of labels the same as in our full dataset."
      ]
    },
    {
      "cell_type": "code",
      "metadata": {
        "id": "NCMPqjqvs1Mc",
        "outputId": "ddfc09f9-6bb9-4a2d-97c4-eca845fce03e",
        "colab": {
          "base_uri": "https://localhost:8080/",
          "height": 304
        }
      },
      "source": [
        "#@title **Test set label counts**\n",
        "from sklearn.model_selection import train_test_split\n",
        "\n",
        "train_val, test = train_test_split(reports_df, test_size=0.15, stratify=reports_df.label.values)\n",
        "test_counts = test.label.value_counts()\n",
        "test_counts.plot.bar();"
      ],
      "execution_count": null,
      "outputs": [
        {
          "output_type": "display_data",
          "data": {
            "image/png": "[encoded data removed]",
            "text/plain": [
              "<Figure size 432x288 with 1 Axes>"
            ]
          },
          "metadata": {
            "tags": [],
            "needs_background": "light"
          }
        }
      ]
    },
    {
      "cell_type": "markdown",
      "metadata": {
        "id": "HI7CMLEg6VjL"
      },
      "source": [
        "# Language Modeling\n",
        "\n",
        "The types of algorithms we use in NLP work with with numbers, not text. Therefore, we need a way to convert text into numbers.\n",
        "\n",
        "## Tokenization\n",
        "\n",
        "_Tokenization_ is the process by which we split text into chunks or _tokens_. An individual token could be a sentence or phrase, a word, a part of a word, or a single character. Most often, we choose to tokenize at the word or sub-word level.\n",
        "\n",
        "Each token is assigned a sequential integer value and the collection of token-integer pairs is called our _vocabulary_.\n",
        "\n",
        "## Embedding\n",
        "\n",
        "While these integers map one-to-one onto our tokens, their numeric value is otherwise meaningless. To embed more information into the numeric representation of our tokens, we employ a process called _language modeling_. We can either use a pre-trained language model for this _embedding_ or we can fine-tune a language model to better model our \"radiology language\". This latter process is called _transfer learning_."
      ]
    },
    {
      "cell_type": "code",
      "metadata": {
        "id": "oBodPuEb5XMK",
        "outputId": "f0bc12c1-04c4-4cd5-971b-9d7277999dc0",
        "colab": {
          "base_uri": "https://localhost:8080/",
          "height": 125
        }
      },
      "source": [
        "#@title **Word Tokenization**\n",
        "\n",
        "from fastai.text.all import *\n",
        "\n",
        "spacy = WordTokenizer()\n",
        "text = reports_df.loc[0, 'findings']\n",
        "print('Original text:')\n",
        "print(text)\n",
        "print()\n",
        "tkns = first(spacy([text]))\n",
        "print('After word tokenization (only showing first 10 tokens):')\n",
        "print(coll_repr(tkns))"
      ],
      "execution_count": null,
      "outputs": [
        {
          "output_type": "stream",
          "text": [
            "Original text:\n",
            "Normal heart size and mediastinal contours. Patchy right lower lobe airspace opacities. No pleural effusion or pneumothorax. Visualized osseous structures are unremarkable in appearance.\n",
            "\n",
            "After word tokenization (only showing first 10 tokens):\n",
            "(#28) ['Normal','heart','size','and','mediastinal','contours','.','Patchy','right','lower'...]\n"
          ],
          "name": "stdout"
        }
      ]
    },
    {
      "cell_type": "code",
      "metadata": {
        "id": "AzhXiIreGk7T",
        "outputId": "40e9852b-5f34-4748-f98b-2119382ea75a",
        "colab": {
          "base_uri": "https://localhost:8080/",
          "height": 55
        }
      },
      "source": [
        "#@title **fast.ai Tokenization**\n",
        "\n",
        "tkn = Tokenizer(spacy)\n",
        "toks = tkn(text)\n",
        "print(coll_repr(toks, 15))"
      ],
      "execution_count": null,
      "outputs": [
        {
          "output_type": "stream",
          "text": [
            "(#33) ['xxbos','xxmaj','normal','heart','size','and','mediastinal','contours','.','xxmaj','patchy','right','lower','lobe','airspace'...]\n"
          ],
          "name": "stdout"
        }
      ]
    },
    {
      "cell_type": "markdown",
      "metadata": {
        "id": "1QrDY1dqKw_1"
      },
      "source": [
        "## Added features from fast.ai\n",
        "\n",
        "You'll notice some odd-appearing tokens in the above output. These are special tokens that indicate certain things about the text.\n",
        "- `'xxbos'` indicates the beginning of the text _stream_\n",
        "- `'xxmaj'` indicates that the following character was capitalized before fast.ai lowered it\n",
        "\n",
        "These special tokens enrich the data while reducing the vocab by eliminating redundant upper and lower case variants of individual words."
      ]
    },
    {
      "cell_type": "code",
      "metadata": {
        "id": "9jB19pgwKUWU"
      },
      "source": [
        ""
      ],
      "execution_count": null,
      "outputs": []
    }
  ]
}